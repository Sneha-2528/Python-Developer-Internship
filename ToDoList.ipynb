{
 "cells": [
  {
   "cell_type": "code",
   "execution_count": 1,
   "id": "67afd154-ec7c-491b-8ca5-598019be836b",
   "metadata": {},
   "outputs": [
    {
     "name": "stdout",
     "output_type": "stream",
     "text": [
      "===== TO-DO LIST MENU =====\n",
      "1. View Tasks\n",
      "2. Add Task\n",
      "3. Remove Task\n",
      "4. Exit\n"
     ]
    },
    {
     "name": "stdin",
     "output_type": "stream",
     "text": [
      "Choose an option (1-4):  1\n"
     ]
    },
    {
     "name": "stdout",
     "output_type": "stream",
     "text": [
      "\n",
      "No tasks available.\n",
      "\n",
      "===== TO-DO LIST MENU =====\n",
      "1. View Tasks\n",
      "2. Add Task\n",
      "3. Remove Task\n",
      "4. Exit\n"
     ]
    },
    {
     "name": "stdin",
     "output_type": "stream",
     "text": [
      "Choose an option (1-4):  4\n"
     ]
    },
    {
     "name": "stdout",
     "output_type": "stream",
     "text": [
      "Tasks saved. Goodbye!\n"
     ]
    }
   ],
   "source": [
    "def load_tasks(filename=\"tasks.txt\"):\n",
    "    try:\n",
    "        with open(filename, \"r\") as f:\n",
    "            tasks = f.read().splitlines()\n",
    "    except FileNotFoundError:\n",
    "        tasks = []\n",
    "    return tasks\n",
    "\n",
    "def save_tasks(tasks, filename=\"tasks.txt\"):\n",
    "    with open(filename, \"w\") as f:\n",
    "        for task in tasks:\n",
    "            f.write(task + \"\\n\")\n",
    "\n",
    "def show_tasks(tasks):\n",
    "    if not tasks:\n",
    "        print(\"\\nNo tasks available.\\n\")\n",
    "    else:\n",
    "        print(\"\\nYour To-Do List:\")\n",
    "        for i, task in enumerate(tasks, start=1):\n",
    "            print(f\"{i}. {task}\")\n",
    "        print()\n",
    "\n",
    "def add_task(tasks):\n",
    "    task = input(\"Enter a new task: \")\n",
    "    tasks.append(task)\n",
    "    print(f\"Task '{task}' added.\\n\")\n",
    "\n",
    "\n",
    "def remove_task(tasks):\n",
    "    show_tasks(tasks)\n",
    "    if not tasks:\n",
    "        return\n",
    "    try:\n",
    "        task_no = int(input(\"Enter task number to remove: \"))\n",
    "        if 1 <= task_no <= len(tasks):\n",
    "            removed = tasks.pop(task_no - 1)\n",
    "            print(f\"Task '{removed}' removed.\\n\")\n",
    "        else:\n",
    "            print(\"Invalid task number.\\n\")\n",
    "    except ValueError:\n",
    "        print(\"Please enter a valid number.\\n\")\n",
    "\n",
    "def main():\n",
    "    tasks = load_tasks()  # Load tasks from file\n",
    "\n",
    "    while True:\n",
    "        print(\"===== TO-DO LIST MENU =====\")\n",
    "        print(\"1. View Tasks\")\n",
    "        print(\"2. Add Task\")\n",
    "        print(\"3. Remove Task\")\n",
    "        print(\"4. Exit\")\n",
    "        choice = input(\"Choose an option (1-4): \")\n",
    "\n",
    "        if choice == \"1\":\n",
    "            show_tasks(tasks)\n",
    "        elif choice == \"2\":\n",
    "            add_task(tasks)\n",
    "        elif choice == \"3\":\n",
    "            remove_task(tasks)\n",
    "        elif choice == \"4\":\n",
    "            save_tasks(tasks)  \n",
    "            print(\"Tasks saved. Goodbye!\")\n",
    "            break\n",
    "        else:\n",
    "            print(\"Invalid choice, try again.\\n\")\n",
    "\n",
    "\n",
    "if __name__ == \"__main__\":\n",
    "    main()"
   ]
  },
  {
   "cell_type": "code",
   "execution_count": null,
   "id": "5e598412-5d1d-43f8-ae63-687ea25e66f9",
   "metadata": {},
   "outputs": [],
   "source": []
  }
 ],
 "metadata": {
  "kernelspec": {
   "display_name": "Python 3 (ipykernel)",
   "language": "python",
   "name": "python3"
  },
  "language_info": {
   "codemirror_mode": {
    "name": "ipython",
    "version": 3
   },
   "file_extension": ".py",
   "mimetype": "text/x-python",
   "name": "python",
   "nbconvert_exporter": "python",
   "pygments_lexer": "ipython3",
   "version": "3.12.7"
  }
 },
 "nbformat": 4,
 "nbformat_minor": 5
}
